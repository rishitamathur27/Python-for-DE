{
 "cells": [
  {
   "cell_type": "code",
   "execution_count": 1,
   "id": "6c2cc198-8d76-481d-9d46-65740ebdc0ac",
   "metadata": {},
   "outputs": [],
   "source": [
    "import math"
   ]
  },
  {
   "cell_type": "code",
   "execution_count": 2,
   "id": "f8ad4995-370a-464c-b6b6-dab166967e37",
   "metadata": {},
   "outputs": [
    {
     "data": {
      "text/plain": [
       "64.0"
      ]
     },
     "execution_count": 2,
     "metadata": {},
     "output_type": "execute_result"
    }
   ],
   "source": [
    "math.pow(2,6)"
   ]
  },
  {
   "cell_type": "markdown",
   "id": "965865f4-ffbe-4466-a38c-6c89081c70f5",
   "metadata": {},
   "source": [
    "### Comprehensions ###"
   ]
  },
  {
   "cell_type": "code",
   "execution_count": 4,
   "id": "f168cb63-fe4f-4b5d-bcee-b4d9fa37a142",
   "metadata": {},
   "outputs": [
    {
     "name": "stdout",
     "output_type": "stream",
     "text": [
      "Hello A\n",
      "Hello B\n",
      "Hello C\n",
      "Hello D\n"
     ]
    }
   ],
   "source": [
    "# Python provides syntactic sugar to write small loops to generate lists/sets/tupes/dicts in one line and these are called comprehensions, and can greately increase development speed and readibility\n",
    "\n",
    "names = ['A','B','C','D']\n",
    "for i in names:\n",
    "    print(\"Hello \" + i)"
   ]
  },
  {
   "cell_type": "code",
   "execution_count": 6,
   "id": "1af5df17-0ac5-44f4-b09e-ff2bc63e5c42",
   "metadata": {},
   "outputs": [
    {
     "data": {
      "text/plain": [
       "['Hello A', 'Hello B', 'Hello C', 'Hello D']"
      ]
     },
     "execution_count": 6,
     "metadata": {},
     "output_type": "execute_result"
    }
   ],
   "source": [
    "# Without list comprehension\n",
    "names = ['A','B','C','D']\n",
    "\n",
    "new_list = []\n",
    "for i in names:\n",
    "    new_list.append(\"Hello \"+ i)\n",
    "new_list    "
   ]
  },
  {
   "cell_type": "code",
   "execution_count": 8,
   "id": "97522580-8c27-46a2-b5fe-0f9e9d670419",
   "metadata": {},
   "outputs": [
    {
     "data": {
      "text/plain": [
       "['Hello A', 'Hello B', 'Hello C', 'Hello D']"
      ]
     },
     "execution_count": 8,
     "metadata": {},
     "output_type": "execute_result"
    }
   ],
   "source": [
    "# Using list comprehension\n",
    "names = ['A','B','C','D']\n",
    "\n",
    "hello = [\"Hello \" + i for i in names]\n",
    "hello"
   ]
  },
  {
   "cell_type": "code",
   "execution_count": 17,
   "id": "d0a28e69-ba83-4bf1-aae1-61021589e3f4",
   "metadata": {},
   "outputs": [
    {
     "name": "stdout",
     "output_type": "stream",
     "text": [
      "[42, 52, 26, 12]\n",
      "[(25, 625), (33, 1089)]\n"
     ]
    }
   ],
   "source": [
    "numbers = [25,42,52,26,12,33]\n",
    "even = [i for i in numbers if i%2==0]\n",
    "print(even)\n",
    "\n",
    "\n",
    "odd_squares = [(i,i*i) for i in numbers if i%2==1]\n",
    "print(odd_squares)"
   ]
  },
  {
   "cell_type": "markdown",
   "id": "d712a9a1-2f02-4db6-94bd-0168da3b95a5",
   "metadata": {},
   "source": [
    "### File I/O ###"
   ]
  },
  {
   "cell_type": "code",
   "execution_count": 15,
   "id": "dede0d41-df1a-4d7e-a027-8016cb75e44f",
   "metadata": {},
   "outputs": [],
   "source": [
    "# Create a file in the current directory\n",
    "\n",
    "with open(\"iofile.txt\",'w') as f:\n",
    "    f.write(\"Hello Guys! \\n\")\n",
    "    f.write(\"Hope you all are doing great!\")"
   ]
  },
  {
   "cell_type": "code",
   "execution_count": 16,
   "id": "fdfc3389-37eb-492f-b400-7a9fce184009",
   "metadata": {},
   "outputs": [],
   "source": [
    "f.close()"
   ]
  },
  {
   "cell_type": "markdown",
   "id": "b96ad891-1de0-4011-b3bd-b66195866fa7",
   "metadata": {},
   "source": [
    "## Functions ##"
   ]
  },
  {
   "cell_type": "code",
   "execution_count": 19,
   "id": "36ea2a06-a7bc-469e-9353-743cd3f2c1e7",
   "metadata": {},
   "outputs": [
    {
     "name": "stdout",
     "output_type": "stream",
     "text": [
      "2\n"
     ]
    }
   ],
   "source": [
    "def double_the_number(nums=1):\n",
    "    return nums*2\n",
    "\n",
    "print (double_the_number())"
   ]
  },
  {
   "cell_type": "code",
   "execution_count": 20,
   "id": "944f9b5e-2c15-4015-8df6-548b11717d01",
   "metadata": {},
   "outputs": [
    {
     "name": "stdout",
     "output_type": "stream",
     "text": [
      "8\n"
     ]
    }
   ],
   "source": [
    "def double_the_number(nums=1):\n",
    "    return nums*2\n",
    "\n",
    "print (double_the_number(4))"
   ]
  },
  {
   "cell_type": "code",
   "execution_count": 21,
   "id": "2c9469d3-36d1-42ae-8d61-43624f3b7849",
   "metadata": {},
   "outputs": [
    {
     "name": "stdout",
     "output_type": "stream",
     "text": [
      "name\n",
      "age\n",
      "class\n"
     ]
    }
   ],
   "source": [
    "def database_columns(*args):\n",
    "    for arg in args:\n",
    "        print(arg)\n",
    "\n",
    "database_columns(\"name\",\"age\",\"class\")"
   ]
  },
  {
   "cell_type": "markdown",
   "id": "68b191f5-83c9-4fdf-b083-c35d797f3cc2",
   "metadata": {},
   "source": [
    "## Lambda Functions"
   ]
  },
  {
   "cell_type": "code",
   "execution_count": 22,
   "id": "a37cd9fe-9a08-4169-bbed-c7dec74d33a7",
   "metadata": {},
   "outputs": [
    {
     "data": {
      "text/plain": [
       "25"
      ]
     },
     "execution_count": 22,
     "metadata": {},
     "output_type": "execute_result"
    }
   ],
   "source": [
    "# Lambda's body is a single line of expression and not a block of statements. Allows creating anonymous functions.\n",
    "\n",
    "square_lambda = lambda num: num**2\n",
    "square_lambda(5)"
   ]
  },
  {
   "cell_type": "code",
   "execution_count": 24,
   "id": "a7c3cde8-5c21-49dc-a601-4c9448716e06",
   "metadata": {},
   "outputs": [
    {
     "data": {
      "text/plain": [
       "8"
      ]
     },
     "execution_count": 24,
     "metadata": {},
     "output_type": "execute_result"
    }
   ],
   "source": [
    "add_lambda = lambda a,b: a+b\n",
    "add_lambda(3,5)"
   ]
  },
  {
   "cell_type": "code",
   "execution_count": null,
   "id": "5a30b5f7-6f99-441b-b809-52103c8123d0",
   "metadata": {},
   "outputs": [],
   "source": []
  }
 ],
 "metadata": {
  "kernelspec": {
   "display_name": "Python 3 (ipykernel)",
   "language": "python",
   "name": "python3"
  },
  "language_info": {
   "codemirror_mode": {
    "name": "ipython",
    "version": 3
   },
   "file_extension": ".py",
   "mimetype": "text/x-python",
   "name": "python",
   "nbconvert_exporter": "python",
   "pygments_lexer": "ipython3",
   "version": "3.11.7"
  }
 },
 "nbformat": 4,
 "nbformat_minor": 5
}
