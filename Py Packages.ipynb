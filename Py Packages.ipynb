{
 "cells": [
  {
   "cell_type": "markdown",
   "id": "5a4097db-6e52-44d8-a615-6dfafb39a1d4",
   "metadata": {},
   "source": [
    "## Numpy"
   ]
  },
  {
   "cell_type": "code",
   "execution_count": 1,
   "id": "f4ba0b2e-7afa-4e41-8683-2dbe47be77f9",
   "metadata": {},
   "outputs": [
    {
     "name": "stdout",
     "output_type": "stream",
     "text": [
      "Requirement already satisfied: numpy in c:\\users\\rishita.mathur\\appdata\\local\\anaconda\\lib\\site-packages (1.26.4)\n",
      "Note: you may need to restart the kernel to use updated packages.\n"
     ]
    }
   ],
   "source": [
    "pip install numpy"
   ]
  },
  {
   "cell_type": "code",
   "execution_count": 2,
   "id": "797a9168-1b4a-4d81-92ac-c5ad3c0fdd71",
   "metadata": {},
   "outputs": [
    {
     "data": {
      "text/plain": [
       "<function numpy.array>"
      ]
     },
     "execution_count": 2,
     "metadata": {},
     "output_type": "execute_result"
    }
   ],
   "source": [
    "import numpy\n",
    "numpy.array"
   ]
  },
  {
   "cell_type": "code",
   "execution_count": 8,
   "id": "1818ea32-13ba-4e1a-a5b2-df055746ac58",
   "metadata": {},
   "outputs": [
    {
     "data": {
      "text/plain": [
       "array([14, 53, 31, 12, 22])"
      ]
     },
     "execution_count": 8,
     "metadata": {},
     "output_type": "execute_result"
    }
   ],
   "source": [
    "import numpy as np\n",
    "\n",
    "arr = [14,53,31,12,22]\n",
    "arr\n",
    "\n",
    "np_arr = np.array(arr)\n",
    "np_arr"
   ]
  },
  {
   "cell_type": "code",
   "execution_count": 14,
   "id": "2f8fb86d-4bbe-444d-b626-9d26aaab143f",
   "metadata": {},
   "outputs": [
    {
     "data": {
      "text/plain": [
       "array([[33, 23],\n",
       "       [24, 64],\n",
       "       [23, 11]])"
      ]
     },
     "execution_count": 14,
     "metadata": {},
     "output_type": "execute_result"
    }
   ],
   "source": [
    "## From list to 2D-array\n",
    "\n",
    "arr = [[33,23],[24,64],[23,11]]\n",
    "arr\n",
    "\n",
    "arr1 = np.array(arr)\n",
    "arr1"
   ]
  },
  {
   "cell_type": "code",
   "execution_count": 17,
   "id": "cac775ee-c51f-4be9-b226-0f258c277e5d",
   "metadata": {},
   "outputs": [
    {
     "name": "stdout",
     "output_type": "stream",
     "text": [
      "(3, 2)\n"
     ]
    }
   ],
   "source": [
    "print(arr1.shape)"
   ]
  },
  {
   "cell_type": "markdown",
   "id": "9fa3f4a1-68d1-481d-bc2a-40ab3922bd81",
   "metadata": {},
   "source": [
    "## Numpy Built-in Functions"
   ]
  },
  {
   "cell_type": "code",
   "execution_count": null,
   "id": "089f14a5-6992-4038-acca-c8e3a4535a1e",
   "metadata": {},
   "outputs": [],
   "source": [
    "## arange"
   ]
  },
  {
   "cell_type": "code",
   "execution_count": 23,
   "id": "71f90807-a255-4c91-893a-a0784d520936",
   "metadata": {},
   "outputs": [
    {
     "data": {
      "text/plain": [
       "array([0, 1, 2, 3, 4, 5, 6, 7, 8, 9])"
      ]
     },
     "execution_count": 23,
     "metadata": {},
     "output_type": "execute_result"
    }
   ],
   "source": [
    "import numpy as np\n",
    "\n",
    "np.arange(0,10)\n"
   ]
  },
  {
   "cell_type": "code",
   "execution_count": 24,
   "id": "f03330d9-6f41-4b4b-a524-711f08529dc3",
   "metadata": {},
   "outputs": [
    {
     "data": {
      "text/plain": [
       "array([0, 3, 6, 9])"
      ]
     },
     "execution_count": 24,
     "metadata": {},
     "output_type": "execute_result"
    }
   ],
   "source": [
    "np.arange(0,10,3)"
   ]
  },
  {
   "cell_type": "raw",
   "id": "8bc47b58-ff8e-4c2d-8eea-a1a6a1a63fc7",
   "metadata": {},
   "source": []
  },
  {
   "cell_type": "code",
   "execution_count": 27,
   "id": "afa134d6-f5f6-475e-ae94-ef0948486a79",
   "metadata": {},
   "outputs": [
    {
     "data": {
      "text/plain": [
       "array([[0., 0., 0.],\n",
       "       [0., 0., 0.]])"
      ]
     },
     "execution_count": 27,
     "metadata": {},
     "output_type": "execute_result"
    }
   ],
   "source": [
    "np.zeros((2,3))"
   ]
  },
  {
   "cell_type": "code",
   "execution_count": 30,
   "id": "83167241-f212-4169-bf67-ead7148e6463",
   "metadata": {},
   "outputs": [
    {
     "data": {
      "text/plain": [
       "array([[1., 1., 1., 1., 1.],\n",
       "       [1., 1., 1., 1., 1.]])"
      ]
     },
     "execution_count": 30,
     "metadata": {},
     "output_type": "execute_result"
    }
   ],
   "source": [
    "np.ones((2,5))"
   ]
  },
  {
   "cell_type": "code",
   "execution_count": 29,
   "id": "d8ec4b0e-1c88-4195-91c4-9d2e8a7d6140",
   "metadata": {},
   "outputs": [
    {
     "data": {
      "text/plain": [
       "array([[0.34837397, 0.1580242 , 0.88241096, 0.09704327],\n",
       "       [0.50862444, 0.70204726, 0.20703449, 0.63281876],\n",
       "       [0.97359761, 0.54117647, 0.13251108, 0.80989857]])"
      ]
     },
     "execution_count": 29,
     "metadata": {},
     "output_type": "execute_result"
    }
   ],
   "source": [
    "np.random.rand(3,4)"
   ]
  },
  {
   "cell_type": "markdown",
   "id": "230e6906-df48-4302-aed5-588b265657fb",
   "metadata": {},
   "source": [
    "## Pandas"
   ]
  },
  {
   "cell_type": "code",
   "execution_count": 37,
   "id": "eeef2b21-ad43-40bb-abec-21f4116e793f",
   "metadata": {},
   "outputs": [
    {
     "name": "stdout",
     "output_type": "stream",
     "text": [
      "0    34\n",
      "1    54\n",
      "2     2\n",
      "3    43\n",
      "4    12\n",
      "5    32\n",
      "6    22\n",
      "dtype: int64\n"
     ]
    }
   ],
   "source": [
    "# Creating a pandas series from a list\n",
    "\n",
    "import pandas as pd\n",
    "a= [34,54,2,43,12,32,22]\n",
    "b= pd.Series(a)\n",
    "print(b)"
   ]
  },
  {
   "cell_type": "code",
   "execution_count": 39,
   "id": "5b444340-cfd5-4ed6-bf77-8e1d63a81c3a",
   "metadata": {},
   "outputs": [
    {
     "data": {
      "text/plain": [
       "array([34, 54,  2, 43, 12, 32, 22], dtype=int64)"
      ]
     },
     "execution_count": 39,
     "metadata": {},
     "output_type": "execute_result"
    }
   ],
   "source": [
    "b.values"
   ]
  },
  {
   "cell_type": "code",
   "execution_count": 40,
   "id": "5ae3ba0b-2e1d-498c-9da1-4417c5688131",
   "metadata": {},
   "outputs": [
    {
     "data": {
      "text/plain": [
       "a    10\n",
       "b    20\n",
       "c    30\n",
       "dtype: int64"
      ]
     },
     "execution_count": 40,
     "metadata": {},
     "output_type": "execute_result"
    }
   ],
   "source": [
    "# Creating a series from dictionary\n",
    "\n",
    "import pandas as pd\n",
    "\n",
    "d = {'a':10, 'b':20, 'c':30}\n",
    "pd.Series(d)"
   ]
  },
  {
   "cell_type": "markdown",
   "id": "9383f101-46e3-45df-80c5-88aab44ae245",
   "metadata": {},
   "source": [
    "## Using index in a series"
   ]
  },
  {
   "cell_type": "code",
   "execution_count": 41,
   "id": "5318bd30-ea88-4dbe-86c7-ba5a3d0d5daa",
   "metadata": {},
   "outputs": [
    {
     "data": {
      "text/plain": [
       "India     1\n",
       "USA       2\n",
       "China     3\n",
       "Brazil    4\n",
       "dtype: int64"
      ]
     },
     "execution_count": 41,
     "metadata": {},
     "output_type": "execute_result"
    }
   ],
   "source": [
    "import pandas as pd\n",
    "\n",
    "ser1 = pd.Series([1,2,3,4], index = ['India','USA','China','Brazil'])\n",
    "ser1"
   ]
  },
  {
   "cell_type": "code",
   "execution_count": 44,
   "id": "88eb29c1-9c68-400b-bdff-c193749009cb",
   "metadata": {},
   "outputs": [
    {
     "data": {
      "text/plain": [
       "2"
      ]
     },
     "execution_count": 44,
     "metadata": {},
     "output_type": "execute_result"
    }
   ],
   "source": [
    "ser1['USA']"
   ]
  },
  {
   "cell_type": "code",
   "execution_count": 45,
   "id": "c0f8d00a-277f-436a-8e58-ea8fdb4d125e",
   "metadata": {},
   "outputs": [
    {
     "data": {
      "text/plain": [
       "India     1\n",
       "USA       2\n",
       "Italy     3\n",
       "Brazil    4\n",
       "dtype: int64"
      ]
     },
     "execution_count": 45,
     "metadata": {},
     "output_type": "execute_result"
    }
   ],
   "source": [
    "ser2 = pd.Series([1,2,3,4], index = ['India','USA','Italy','Brazil'])\n",
    "ser2"
   ]
  },
  {
   "cell_type": "code",
   "execution_count": 46,
   "id": "be489fce-d750-429e-ab5d-9db28163c0cf",
   "metadata": {},
   "outputs": [
    {
     "name": "stdout",
     "output_type": "stream",
     "text": [
      "Brazil    8.0\n",
      "China     NaN\n",
      "India     2.0\n",
      "Italy     NaN\n",
      "USA       4.0\n",
      "dtype: float64\n"
     ]
    }
   ],
   "source": [
    "print(ser1+ser2)"
   ]
  },
  {
   "cell_type": "markdown",
   "id": "b99a7791-0e0d-4101-9c67-5a3b41f3d44d",
   "metadata": {},
   "source": [
    "## DataFrames"
   ]
  },
  {
   "cell_type": "code",
   "execution_count": 52,
   "id": "fdc07252-84fd-4d40-8469-9478bf798b86",
   "metadata": {},
   "outputs": [
    {
     "data": {
      "text/html": [
       "<div>\n",
       "<style scoped>\n",
       "    .dataframe tbody tr th:only-of-type {\n",
       "        vertical-align: middle;\n",
       "    }\n",
       "\n",
       "    .dataframe tbody tr th {\n",
       "        vertical-align: top;\n",
       "    }\n",
       "\n",
       "    .dataframe thead th {\n",
       "        text-align: right;\n",
       "    }\n",
       "</style>\n",
       "<table border=\"1\" class=\"dataframe\">\n",
       "  <thead>\n",
       "    <tr style=\"text-align: right;\">\n",
       "      <th></th>\n",
       "      <th>0</th>\n",
       "      <th>1</th>\n",
       "      <th>2</th>\n",
       "    </tr>\n",
       "  </thead>\n",
       "  <tbody>\n",
       "    <tr>\n",
       "      <th>0</th>\n",
       "      <td>1</td>\n",
       "      <td>2</td>\n",
       "      <td>3</td>\n",
       "    </tr>\n",
       "    <tr>\n",
       "      <th>1</th>\n",
       "      <td>3</td>\n",
       "      <td>4</td>\n",
       "      <td>5</td>\n",
       "    </tr>\n",
       "    <tr>\n",
       "      <th>2</th>\n",
       "      <td>5</td>\n",
       "      <td>6</td>\n",
       "      <td>7</td>\n",
       "    </tr>\n",
       "    <tr>\n",
       "      <th>3</th>\n",
       "      <td>7</td>\n",
       "      <td>8</td>\n",
       "      <td>9</td>\n",
       "    </tr>\n",
       "  </tbody>\n",
       "</table>\n",
       "</div>"
      ],
      "text/plain": [
       "   0  1  2\n",
       "0  1  2  3\n",
       "1  3  4  5\n",
       "2  5  6  7\n",
       "3  7  8  9"
      ]
     },
     "execution_count": 52,
     "metadata": {},
     "output_type": "execute_result"
    }
   ],
   "source": [
    "import pandas as pd\n",
    "\n",
    "df = pd.DataFrame([[1,2,3],\n",
    "                   [3,4,5],\n",
    "                   [5,6,7],\n",
    "                   [7,8,9]])\n",
    "df"
   ]
  },
  {
   "cell_type": "code",
   "execution_count": 53,
   "id": "568c4198-442b-4a58-97ce-80e9c9a3544f",
   "metadata": {},
   "outputs": [
    {
     "name": "stdout",
     "output_type": "stream",
     "text": [
      "Shape: (4, 3)\n"
     ]
    }
   ],
   "source": [
    "print(\"Shape:\", df.shape)"
   ]
  },
  {
   "cell_type": "code",
   "execution_count": 56,
   "id": "4af19a67-a0eb-44e9-b714-0281722d90b2",
   "metadata": {},
   "outputs": [
    {
     "data": {
      "text/html": [
       "<div>\n",
       "<style scoped>\n",
       "    .dataframe tbody tr th:only-of-type {\n",
       "        vertical-align: middle;\n",
       "    }\n",
       "\n",
       "    .dataframe tbody tr th {\n",
       "        vertical-align: top;\n",
       "    }\n",
       "\n",
       "    .dataframe thead th {\n",
       "        text-align: right;\n",
       "    }\n",
       "</style>\n",
       "<table border=\"1\" class=\"dataframe\">\n",
       "  <thead>\n",
       "    <tr style=\"text-align: right;\">\n",
       "      <th></th>\n",
       "      <th>w</th>\n",
       "      <th>x</th>\n",
       "      <th>y</th>\n",
       "      <th>z</th>\n",
       "    </tr>\n",
       "  </thead>\n",
       "  <tbody>\n",
       "    <tr>\n",
       "      <th>a</th>\n",
       "      <td>2</td>\n",
       "      <td>4</td>\n",
       "      <td>3</td>\n",
       "      <td>1</td>\n",
       "    </tr>\n",
       "    <tr>\n",
       "      <th>b</th>\n",
       "      <td>53</td>\n",
       "      <td>2</td>\n",
       "      <td>5</td>\n",
       "      <td>3</td>\n",
       "    </tr>\n",
       "    <tr>\n",
       "      <th>c</th>\n",
       "      <td>66</td>\n",
       "      <td>45</td>\n",
       "      <td>23</td>\n",
       "      <td>2</td>\n",
       "    </tr>\n",
       "  </tbody>\n",
       "</table>\n",
       "</div>"
      ],
      "text/plain": [
       "    w   x   y  z\n",
       "a   2   4   3  1\n",
       "b  53   2   5  3\n",
       "c  66  45  23  2"
      ]
     },
     "execution_count": 56,
     "metadata": {},
     "output_type": "execute_result"
    }
   ],
   "source": [
    "df2 = pd.DataFrame([[2,4,3,1],[53,2,5,3],[66,45,23,2]], index=['a','b','c'], columns=['w','x','y','z'])\n",
    "df2"
   ]
  },
  {
   "cell_type": "code",
   "execution_count": 57,
   "id": "17fce2f2-c9fe-4461-b4d7-cfaced657773",
   "metadata": {},
   "outputs": [
    {
     "data": {
      "text/plain": [
       "(3, 4)"
      ]
     },
     "execution_count": 57,
     "metadata": {},
     "output_type": "execute_result"
    }
   ],
   "source": [
    "df2.shape"
   ]
  },
  {
   "cell_type": "code",
   "execution_count": 58,
   "id": "975310c7-79c8-4c2e-a912-c8400f784159",
   "metadata": {},
   "outputs": [
    {
     "data": {
      "text/plain": [
       "Index(['a', 'b', 'c'], dtype='object')"
      ]
     },
     "execution_count": 58,
     "metadata": {},
     "output_type": "execute_result"
    }
   ],
   "source": [
    "df2.index"
   ]
  },
  {
   "cell_type": "code",
   "execution_count": null,
   "id": "60d0bfbe-1478-4394-af2d-1c991ab1d25b",
   "metadata": {},
   "outputs": [],
   "source": []
  }
 ],
 "metadata": {
  "kernelspec": {
   "display_name": "Python 3 (ipykernel)",
   "language": "python",
   "name": "python3"
  },
  "language_info": {
   "codemirror_mode": {
    "name": "ipython",
    "version": 3
   },
   "file_extension": ".py",
   "mimetype": "text/x-python",
   "name": "python",
   "nbconvert_exporter": "python",
   "pygments_lexer": "ipython3",
   "version": "3.11.7"
  }
 },
 "nbformat": 4,
 "nbformat_minor": 5
}
